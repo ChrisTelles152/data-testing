{
 "cells": [
  {
   "cell_type": "code",
   "execution_count": 5,
   "metadata": {
    "collapsed": false
   },
   "outputs": [
    {
     "name": "stdout",
     "output_type": "stream",
     "text": [
      "8.04601310991\n"
     ]
    }
   ],
   "source": [
    "s0 = 100 # initial stock level\n",
    "K = 105 # strike price for option\n",
    "T = 1.0 # time to maturity\n",
    "r = 0.05 # constant, riskless short rate\n",
    "sigma = 0.2 # constant volatility\n",
    "\n",
    "from numpy import *\n",
    "\n",
    "I = 100000\n",
    "\n",
    "z = random.standard_normal(I) # standard normally distributed random var\n",
    "\n",
    "# index levels at maturity\n",
    "ST = s0 * exp((r - 0.5 * sigma ** 2) * T + sigma * sqrt(T) * z) \n",
    "\n",
    "# inner values of the option at maturity\n",
    "hT = maximum(ST - K,0)\n",
    "\n",
    "# option present value via Monte Carlo Estimator\n",
    "C0 = exp(-r * T) * sum(hT) / I\n",
    "\n",
    "print (C0)"
   ]
  },
  {
   "cell_type": "code",
   "execution_count": null,
   "metadata": {
    "collapsed": true
   },
   "outputs": [],
   "source": []
  },
  {
   "cell_type": "code",
   "execution_count": null,
   "metadata": {
    "collapsed": true
   },
   "outputs": [],
   "source": []
  },
  {
   "cell_type": "code",
   "execution_count": null,
   "metadata": {
    "collapsed": true
   },
   "outputs": [],
   "source": []
  },
  {
   "cell_type": "code",
   "execution_count": null,
   "metadata": {
    "collapsed": true
   },
   "outputs": [],
   "source": []
  },
  {
   "cell_type": "code",
   "execution_count": null,
   "metadata": {
    "collapsed": true
   },
   "outputs": [],
   "source": []
  },
  {
   "cell_type": "code",
   "execution_count": null,
   "metadata": {
    "collapsed": true
   },
   "outputs": [],
   "source": []
  }
 ],
 "metadata": {
  "kernelspec": {
   "display_name": "Python 3",
   "language": "python",
   "name": "python3"
  },
  "language_info": {
   "codemirror_mode": {
    "name": "ipython",
    "version": 3
   },
   "file_extension": ".py",
   "mimetype": "text/x-python",
   "name": "python",
   "nbconvert_exporter": "python",
   "pygments_lexer": "ipython3",
   "version": "3.6.0"
  }
 },
 "nbformat": 4,
 "nbformat_minor": 2
}
